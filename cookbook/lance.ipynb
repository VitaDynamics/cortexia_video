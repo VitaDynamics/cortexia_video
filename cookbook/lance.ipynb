{
 "cells": [
  {
   "cell_type": "code",
   "execution_count": 1,
   "id": "a9889945",
   "metadata": {},
   "outputs": [
    {
     "name": "stderr",
     "output_type": "stream",
     "text": [
      "/home/heng.li/repo/cortexia_video/.venv/lib/python3.10/site-packages/tqdm/auto.py:21: TqdmWarning: IProgress not found. Please update jupyter and ipywidgets. See https://ipywidgets.readthedocs.io/en/stable/user_install.html\n",
      "  from .autonotebook import tqdm as notebook_tqdm\n"
     ]
    }
   ],
   "source": [
    "import cortexia"
   ]
  },
  {
   "cell_type": "code",
   "execution_count": 2,
   "id": "9f379f02",
   "metadata": {},
   "outputs": [
    {
     "data": {
      "text/plain": [
       "['caption',\n",
       " 'depth',\n",
       " 'description',\n",
       " 'listing',\n",
       " 'segmentation',\n",
       " 'feature_extraction']"
      ]
     },
     "execution_count": 2,
     "metadata": {},
     "output_type": "execute_result"
    }
   ],
   "source": [
    "cortexia.list_features()"
   ]
  },
  {
   "cell_type": "code",
   "execution_count": 3,
   "id": "329609f9",
   "metadata": {},
   "outputs": [
    {
     "data": {
      "text/plain": [
       "['blur', 'clip', 'entropy', 'grid', 'hash']"
      ]
     },
     "execution_count": 3,
     "metadata": {},
     "output_type": "execute_result"
    }
   ],
   "source": [
    "cortexia.list_gates()"
   ]
  },
  {
   "cell_type": "code",
   "execution_count": 4,
   "id": "903b8209",
   "metadata": {},
   "outputs": [],
   "source": [
    "caption = cortexia.create_feature('caption')"
   ]
  },
  {
   "cell_type": "code",
   "execution_count": 5,
   "id": "0cff88da",
   "metadata": {},
   "outputs": [
    {
     "data": {
      "text/plain": [
       "False"
      ]
     },
     "execution_count": 5,
     "metadata": {},
     "output_type": "execute_result"
    }
   ],
   "source": [
    "caption.is_ready()"
   ]
  },
  {
   "cell_type": "code",
   "execution_count": 6,
   "id": "9db1fff2",
   "metadata": {},
   "outputs": [],
   "source": [
    "# use with Lance \n",
    "import lance\n",
    "\n",
    "# read lance dataset \n",
    "\n",
    "dataset = lance.dataset(\"../dummys/lance_data/all_in_one.lance\")"
   ]
  },
  {
   "cell_type": "code",
   "execution_count": 7,
   "id": "4af787aa",
   "metadata": {},
   "outputs": [],
   "source": [
    "import pyarrow as pa\n",
    "import pyarrow.dataset\n",
    "assert isinstance(dataset, pa.dataset.Dataset)"
   ]
  },
  {
   "cell_type": "code",
   "execution_count": null,
   "metadata": {},
   "outputs": [],
   "source": [
    "table = dataset.to_table()"
   ]
  },
  {
   "cell_type": "code",
   "execution_count": null,
   "metadata": {},
   "outputs": [],
   "source": [
    "table"
   ]
  }
 ],
 "metadata": {
  "kernelspec": {
   "display_name": ".venv",
   "language": "python",
   "name": "python3"
  },
  "language_info": {
   "codemirror_mode": {
    "name": "ipython",
    "version": 3
   },
   "file_extension": ".py",
   "mimetype": "text/x-python",
   "name": "python",
   "nbconvert_exporter": "python",
   "pygments_lexer": "ipython3",
   "version": "3.10.12"
  }
 },
 "nbformat": 4,
 "nbformat_minor": 5
}
